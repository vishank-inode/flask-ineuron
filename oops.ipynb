{
 "cells": [
  {
   "cell_type": "code",
   "execution_count": 8,
   "metadata": {},
   "outputs": [],
   "source": [
    "class Product:\n",
    "    def __init__(self, name, price, size, qty, description):\n",
    "        self._name = name\n",
    "        self.price = price\n",
    "        self.size = size\n",
    "        self.qty = qty\n",
    "        self.description = description\n",
    "\n",
    "    def __repr__(self):\n",
    "        return f\"Product name: {self.name}, price: {self.price}, qty: {self.qty}, decription: {self.description}\"\n",
    "    def __str__(self):\n",
    "        return \"This is the product name: \"+ self.name\n",
    "    def removeProduct(self):\n",
    "        self = None\n",
    "    # def getProductbyName(self,name):\n",
    "        \n",
    "    def updateProduct(self, name, product):\n",
    "        self = product"
   ]
  },
  {
   "cell_type": "code",
   "execution_count": 2,
   "metadata": {},
   "outputs": [],
   "source": [
    "class ProductCollection:\n",
    "    def __init__(self):\n",
    "        self.productsList = []\n",
    "\n",
    "    def addProduct(self,product):\n",
    "        self.productsList.append(product)\n",
    "    \n",
    "    def getListOfProducts(self):\n",
    "        return self.productsList"
   ]
  },
  {
   "cell_type": "code",
   "execution_count": 9,
   "metadata": {},
   "outputs": [],
   "source": [
    "d = Product('Battery',10,\"20in\",10,\"This is a battery\")"
   ]
  },
  {
   "cell_type": "code",
   "execution_count": 12,
   "metadata": {},
   "outputs": [
    {
     "data": {
      "text/plain": [
       "'Battery'"
      ]
     },
     "execution_count": 12,
     "metadata": {},
     "output_type": "execute_result"
    }
   ],
   "source": [
    "d._name"
   ]
  },
  {
   "cell_type": "code",
   "execution_count": 13,
   "metadata": {},
   "outputs": [],
   "source": [
    "class Employee:\n",
    "    def __init__(self, name, age):\n",
    "        self.name = name\n",
    "        self.age = age\n",
    "    \n",
    "    def getEmployeeDetails(self):\n",
    "        print(\"empName: \" + self.name + \" empAge: \" + str(self.age))\n",
    "    def addAttendance(self):\n",
    "        print(\"Attendance added\")\n"
   ]
  },
  {
   "cell_type": "code",
   "execution_count": 14,
   "metadata": {},
   "outputs": [],
   "source": [
    "class Manager(Employee):\n",
    "    def __init__(self, name, age, total_no):\n",
    "        super().__init__(name, age)\n",
    "        self.total_no = total_no\n",
    "    \n",
    "    def approveAttendace(self):\n",
    "        print(\"Attendance approved\")\n",
    "    def assignTask(self):\n",
    "        print(\"Task assigned\")"
   ]
  },
  {
   "cell_type": "code",
   "execution_count": 15,
   "metadata": {},
   "outputs": [],
   "source": [
    "m1 = Manager(\"John\", 30, 10)"
   ]
  },
  {
   "cell_type": "code",
   "execution_count": 16,
   "metadata": {},
   "outputs": [
    {
     "name": "stdout",
     "output_type": "stream",
     "text": [
      "empName: John empAge: 30\n"
     ]
    }
   ],
   "source": [
    "m1.getEmployeeDetails()"
   ]
  },
  {
   "cell_type": "code",
   "execution_count": 17,
   "metadata": {},
   "outputs": [
    {
     "name": "stdout",
     "output_type": "stream",
     "text": [
      "Attendance added\n"
     ]
    }
   ],
   "source": [
    "m1.addAttendance()"
   ]
  },
  {
   "cell_type": "code",
   "execution_count": 18,
   "metadata": {},
   "outputs": [
    {
     "name": "stdout",
     "output_type": "stream",
     "text": [
      "Attendance approved\n"
     ]
    }
   ],
   "source": [
    "m1.approveAttendace()"
   ]
  },
  {
   "cell_type": "code",
   "execution_count": 19,
   "metadata": {},
   "outputs": [],
   "source": [
    "emp = Employee(\"John\", 30)"
   ]
  },
  {
   "cell_type": "code",
   "execution_count": 22,
   "metadata": {},
   "outputs": [
    {
     "name": "stdout",
     "output_type": "stream",
     "text": [
      "empName: John empAge: 30\n"
     ]
    }
   ],
   "source": [
    "emp.getEmployeeDetails()"
   ]
  },
  {
   "cell_type": "code",
   "execution_count": 23,
   "metadata": {},
   "outputs": [
    {
     "name": "stdout",
     "output_type": "stream",
     "text": [
      "Attendance added\n"
     ]
    }
   ],
   "source": [
    "emp.addAttendance()"
   ]
  },
  {
   "cell_type": "code",
   "execution_count": null,
   "metadata": {},
   "outputs": [],
   "source": []
  }
 ],
 "metadata": {
  "interpreter": {
   "hash": "366e01e2e511560fa173a0ca3d854fb067f2cd35b6b7748f9caf2d29f5990dae"
  },
  "kernelspec": {
   "display_name": "Python 3.9.0 64-bit ('flask_ineuron': conda)",
   "language": "python",
   "name": "python3"
  },
  "language_info": {
   "codemirror_mode": {
    "name": "ipython",
    "version": 3
   },
   "file_extension": ".py",
   "mimetype": "text/x-python",
   "name": "python",
   "nbconvert_exporter": "python",
   "pygments_lexer": "ipython3",
   "version": "3.9.0"
  },
  "orig_nbformat": 4
 },
 "nbformat": 4,
 "nbformat_minor": 2
}
